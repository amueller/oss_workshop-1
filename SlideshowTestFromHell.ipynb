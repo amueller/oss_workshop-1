{
 "cells": [
  {
   "cell_type": "markdown",
   "metadata": {
    "slideshow": {
     "slide_type": "skip"
    }
   },
   "source": [
    "<table>\n",
    " <tr align=left><td><img align=left src=\"https://i.creativecommons.org/l/by/4.0/88x31.png\">\n",
    " <td>Text provided under a Creative Commons Attribution license, CC-BY. All code is made available under the FSF-approved MIT license. (c) Braden Czapla</td>\n",
    "</table>"
   ]
  },
  {
   "cell_type": "raw",
   "metadata": {
    "slideshow": {
     "slide_type": "skip"
    }
   },
   "source": [
    "<script>\n",
    "  jQuery(document).ready(function($) {  \n",
    "  \n",
    "  $(window).on('load', function(){\n",
    "    $('#preloader').fadeOut('slow',function(){$(this).remove();});\n",
    "  });\n",
    "  \n",
    "  });\n",
    "</script>\n",
    "\n",
    "<style type=\"text/css\">\n",
    "  div#preloader { position: fixed; \n",
    "      left: 0; \n",
    "      top: 0; \n",
    "      z-index: 999; \n",
    "      width: 100%; \n",
    "      height: 100%; \n",
    "      overflow: visible; \n",
    "      background: #fff url('http://preloaders.net/preloaders/720/Moving%20line.gif') no-repeat center center; \n",
    "  }\n",
    "\n",
    "</style>\n",
    "\n",
    "<div id=\"preloader\">\n",
    "\n",
    "</div>"
   ]
  },
  {
   "cell_type": "raw",
   "metadata": {
    "slideshow": {
     "slide_type": "skip"
    }
   },
   "source": [
    "<script>\n",
    "  function code_toggle() {\n",
    "    if (code_shown){\n",
    "      $('div.input').hide('500');\n",
    "      $('#toggleButton').val('Show Code')\n",
    "    } else {\n",
    "      $('div.input').show('500');\n",
    "      $('#toggleButton').val('Hide Code')\n",
    "    }\n",
    "    code_shown = !code_shown\n",
    "  } \n",
    "  \n",
    "  $( document ).ready(function(){\n",
    "    code_shown=false; \n",
    "    $('div.input').hide()\n",
    "  });\n",
    "</script>\n",
    "<form action=\"javascript:code_toggle()\"><input type=\"submit\" id=\"toggleButton\" value=\"Show Code\"></form>"
   ]
  },
  {
   "cell_type": "markdown",
   "metadata": {
    "slideshow": {
     "slide_type": "slide"
    }
   },
   "source": [
    "# Reflection of Light Off an Interface\n",
    "\n",
    "## Braden Czapla\n",
    "\n",
    "##### I want a Creative Commons license here."
   ]
  },
  {
   "cell_type": "markdown",
   "metadata": {
    "slideshow": {
     "slide_type": "slide"
    }
   },
   "source": [
    "## Refractive Index\n",
    "\n",
    "### The refractive index describes the propagation of electromagnetic (EM) waves in a medium; it is complex valued function of wavelength. The real part describes the reduction of wavelength of light in the medium, relative to the vacuum wavelength, and the imaginary part describes losses.\n",
    "\n",
    "$$ \\begin{equation}\n",
    "\\widetilde{n} = n + i \\kappa\n",
    "\\end{equation}$$"
   ]
  },
  {
   "cell_type": "markdown",
   "metadata": {
    "slideshow": {
     "slide_type": "slide"
    }
   },
   "source": [
    "## Refractive Index of Silicon Carbide\n",
    "\n",
    "### In the infrared portion of the EM spectrum, the refractive index of $\\alpha$-SiC is given by\n",
    "\n",
    "$$\\begin{equation}\n",
    "\\left( n + i \\kappa \\right)^2 = \\varepsilon_{\\infty} \\left( \\frac{\\omega^2 - \\omega_{LO}^2 + i \\gamma \\omega}{\\omega^2 - \\omega_{TO}^2 + i \\gamma \\omega} \\right)\n",
    "\\end{equation}$$\n",
    "\n",
    "### where $\\omega$ is the energy of a photon (in eV) with a given wavelength, $\\omega_{LO} = 0.12$ eV, $\\omega_{TO} = 0.098$ eV, $\\gamma = 5.88 \\times 10^{-4}$ eV, and $\\varepsilon_{\\infty} = 6.7$."
   ]
  },
  {
   "cell_type": "markdown",
   "metadata": {
    "slideshow": {
     "slide_type": "slide"
    }
   },
   "source": [
    "## Reflectance\n",
    "\n",
    "### Reflectance is the fraction of incident power reflected an interface. For a wave in vacuum striking a flat surface made of a material with refractive index $\\widetilde{n} = n + i \\kappa$ at normal incidence, the reflectance is given by\n",
    "\n",
    "$$\\begin{equation}\n",
    "R = \\frac{(n-1)^2+\\kappa^2}{(n+1)^2+\\kappa^2}\n",
    "\\end{equation}$$"
   ]
  },
  {
   "cell_type": "code",
   "execution_count": 1,
   "metadata": {
    "slideshow": {
     "slide_type": "slide"
    }
   },
   "outputs": [
    {
     "name": "stderr",
     "output_type": "stream",
     "text": [
      "Widget Javascript not detected.  It may not be installed or enabled properly.\n"
     ]
    },
    {
     "data": {
      "application/vnd.jupyter.widget-view+json": {
       "model_id": "823b58a6264c4481b4fa712c414f1a09"
      }
     },
     "metadata": {},
     "output_type": "display_data"
    },
    {
     "data": {
      "text/plain": [
       "<function __main__.plot>"
      ]
     },
     "execution_count": 1,
     "metadata": {},
     "output_type": "execute_result"
    }
   ],
   "source": [
    "import matplotlib.pyplot as plt\n",
    "from numpy import *\n",
    "%matplotlib notebook\n",
    "\n",
    "def plot(x=0.098):\n",
    "    w_um = linspace(5., 30., 1000) # Wavelengths\n",
    "    w_eV = 1.2398/w_um # Determining energies (in eV) for photons of given wavelengths\n",
    "\n",
    "    epsinf = 6.7\n",
    "    wLO = 0.12\n",
    "    wTO = x\n",
    "    gam = 5.88e-4\n",
    "\n",
    "    eps = epsinf*(w_eV**2 - wLO**2 + 1j*gam*w_eV)/(w_eV**2 - wTO**2 + 1j*gam*w_eV)\n",
    "\n",
    "    RefractiveIndex = sqrt(eps)\n",
    "    R = abs( (1 - RefractiveIndex)/( 1 + RefractiveIndex ) )**2\n",
    "\n",
    "    ###\n",
    "\n",
    "    fontsize1 = 22\n",
    "    labelsize1 = 18\n",
    "    legendsize = 22\n",
    "\n",
    "\n",
    "    fig = plt.figure(figsize=(9.71,6.0))\n",
    "    ax = fig.add_subplot(111)\n",
    "\n",
    "    plt.plot(w_um, real(RefractiveIndex), linewidth = 2, color = 'black', linestyle='-', label='$n$')\n",
    "    plt.plot(w_um, imag(RefractiveIndex), linewidth = 2, color = 'black', linestyle='--', label='$\\kappa$')\n",
    "\n",
    "    plt.xlabel('Wavelength ($\\mu$m)', fontsize=fontsize1)\n",
    "    plt.ylabel('Refractive Index', fontsize=fontsize1)\n",
    "    plt.tick_params(labelsize=labelsize1)\n",
    "\n",
    "\n",
    "    ax2 = plt.gca().twinx()\n",
    "    plt.plot(w_um, R, linewidth = 4, color = 'black', linestyle=':', label='$R$')\n",
    "\n",
    "    plt.ylabel('Reflectance', fontsize=fontsize1)\n",
    "    plt.tick_params(labelsize=labelsize1)\n",
    "    plt.xlim(5., 30)\n",
    "\n",
    "    lines, labels = ax.get_legend_handles_labels()\n",
    "    lines2, labels2 = ax2.get_legend_handles_labels()\n",
    "    ax2.legend(lines + lines2, labels + labels2, loc=1, frameon=False, prop={'size':legendsize});\n",
    "\n",
    "from ipywidgets import interact\n",
    "\n",
    "interact(plot, x=1.0)"
   ]
  },
  {
   "cell_type": "code",
   "execution_count": null,
   "metadata": {
    "collapsed": true
   },
   "outputs": [],
   "source": []
  }
 ],
 "metadata": {
  "celltoolbar": "Slideshow",
  "kernelspec": {
   "display_name": "Python [default]",
   "language": "python",
   "name": "python3"
  },
  "language_info": {
   "codemirror_mode": {
    "name": "ipython",
    "version": 3
   },
   "file_extension": ".py",
   "mimetype": "text/x-python",
   "name": "python",
   "nbconvert_exporter": "python",
   "pygments_lexer": "ipython3",
   "version": "3.6.1"
  }
 },
 "nbformat": 4,
 "nbformat_minor": 1
}
